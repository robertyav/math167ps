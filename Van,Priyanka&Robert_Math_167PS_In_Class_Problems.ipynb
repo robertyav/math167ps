{
  "nbformat": 4,
  "nbformat_minor": 0,
  "metadata": {
    "kernelspec": {
      "display_name": "Python 3",
      "language": "python",
      "name": "python3"
    },
    "language_info": {
      "codemirror_mode": {
        "name": "ipython",
        "version": 3
      },
      "file_extension": ".py",
      "mimetype": "text/x-python",
      "name": "python",
      "nbconvert_exporter": "python",
      "pygments_lexer": "ipython3",
      "version": "3.7.4"
    },
    "colab": {
      "name": "Van,Priyanka&Robert_Math 167PS_In-Class_Problems.ipynb",
      "provenance": [],
      "collapsed_sections": []
    }
  },
  "cells": [
    {
      "cell_type": "markdown",
      "metadata": {
        "id": "dLIZBWwenpsD"
      },
      "source": [
        "# **Van Ngo, Priyanka Ravuru, Robert Yav**\n",
        "\n",
        "## In-Class Problem Sets\n",
        "\n",
        "This Google Collab ipynb is shared between you and me. If you enter code or text and save your work, I am able to see your work in real time. We will be using this shared notebook to work on in-class programming exercises in Math 167PS. If I haven't already done so, please cut and paste the new problems we're working on **on the top** of this worksheet (to minimize scrolling). Tell me out loud on zoom if you would like me to look at your code or if you got stuck and need a hint. \n",
        "\n"
      ]
    },
    {
      "cell_type": "markdown",
      "metadata": {
        "id": "DY9IiSiwKE6N"
      },
      "source": [
        "## In-Class Problem Set 3\n",
        "\n",
        "**Problem:** Given a dictionary that contains names of people as keys and their ages (in integer format) as values, find the name (or names) as a list of the second oldest person (or persons if there is a tie). \n",
        "\n",
        "Examples: \n",
        "{\"Adam': 12, 'Betsy': 11, 'Charles': 13, 'David': 15, 'Emma': 13, 'Fred': 15} Should result in ['Charles', 'Emma'] since Charles and Emma a tied in age and the second-oldest in this group. Note, that the oldest or second oldest age may appear more than once. \n",
        "\n",
        "{'Luke': 19, 'Boba': 32, 'Leia': 19, 'Anakin': 42, 'Yoda': 896} should result in ['Anakin']"
      ]
    },
    {
      "cell_type": "code",
      "execution_count": null,
      "metadata": {
        "id": "ktFv91KSKE6P"
      },
      "outputs": [],
      "source": [
        "d1 = {'Adam': 15, 'Betsy': 11, 'Charles': 13, 'David': 15, 'Emma': 13, 'Fred': 15}\n",
        "d2 = {'Luke': 19, 'Boba': 32, 'Leia': 19, 'Anakin': 42, 'Yoda': 896}"
      ]
    },
    {
      "cell_type": "code",
      "execution_count": null,
      "metadata": {
        "id": "Kw0o5ujCKE6Q",
        "colab": {
          "base_uri": "https://localhost:8080/"
        },
        "outputId": "df5c5db1-cafa-4f22-d158-ae68343f909d"
      },
      "outputs": [
        {
          "output_type": "execute_result",
          "data": {
            "text/plain": [
              "['Anakin']"
            ]
          },
          "metadata": {},
          "execution_count": 30
        }
      ],
      "source": [
        "#priya\n",
        "d1 = {'Adam': 15, 'Betsy': 11, 'Charles': 13, 'David': 15, 'Emma': 13, 'Fred': 15}\n",
        "d2 = {'Luke': 19, 'Boba': 32, 'Leia': 19, 'Anakin': 42, 'Yoda': 896}\n",
        "\n",
        "def sort2(d):\n",
        "  s= (sorted(set(d.values()),reverse=True))\n",
        "  return [i for i in d.keys() if d.get(i)==s[1]]\n",
        "\n",
        "sort2(d1)\n",
        "sort2(d2)\n",
        "\n",
        "    \n"
      ]
    },
    {
      "cell_type": "code",
      "source": [
        "#Robert\n",
        "namedic=d1\n",
        "help(dictionary)"
      ],
      "metadata": {
        "colab": {
          "base_uri": "https://localhost:8080/",
          "height": 209
        },
        "id": "FKBAYTekYp8T",
        "outputId": "7f7f6fbc-b102-4927-d99d-cb363eb249ed"
      },
      "execution_count": null,
      "outputs": [
        {
          "output_type": "error",
          "ename": "NameError",
          "evalue": "ignored",
          "traceback": [
            "\u001b[0;31m---------------------------------------------------------------------------\u001b[0m",
            "\u001b[0;31mNameError\u001b[0m                                 Traceback (most recent call last)",
            "\u001b[0;32m<ipython-input-5-714874851a26>\u001b[0m in \u001b[0;36m<module>\u001b[0;34m()\u001b[0m\n\u001b[1;32m      1\u001b[0m \u001b[0;31m#Robert\u001b[0m\u001b[0;34m\u001b[0m\u001b[0;34m\u001b[0m\u001b[0;34m\u001b[0m\u001b[0m\n\u001b[1;32m      2\u001b[0m \u001b[0mnamedic\u001b[0m\u001b[0;34m=\u001b[0m\u001b[0md1\u001b[0m\u001b[0;34m\u001b[0m\u001b[0;34m\u001b[0m\u001b[0m\n\u001b[0;32m----> 3\u001b[0;31m \u001b[0mhelp\u001b[0m\u001b[0;34m(\u001b[0m\u001b[0mdictionary\u001b[0m\u001b[0;34m)\u001b[0m\u001b[0;34m\u001b[0m\u001b[0;34m\u001b[0m\u001b[0m\n\u001b[0m",
            "\u001b[0;31mNameError\u001b[0m: name 'dictionary' is not defined"
          ]
        }
      ]
    },
    {
      "cell_type": "code",
      "source": [
        "#van\n",
        "d1 = {'Adam': 15, 'Betsy': 11, 'Charles': 13, 'David': 15, 'Emma': 13, 'Fred': 15}\n",
        "d2 = {'Luke': 19, 'Boba': 32, 'Leia': 19, 'Anakin': 42, 'Yoda': 896}\n",
        "v = sorted(set(d2.values()), reverse = True)[1]\n",
        "output=[]\n",
        "for key,value in d2.items():\n",
        "  if value == v:\n",
        "    output.append(key)\n",
        "  else:\n",
        "    pass\n",
        "print(output)"
      ],
      "metadata": {
        "id": "BwDO2IRYghtx",
        "colab": {
          "base_uri": "https://localhost:8080/"
        },
        "outputId": "4a172ebf-b7f9-421f-a7ab-e1bd3958fb0d"
      },
      "execution_count": null,
      "outputs": [
        {
          "output_type": "stream",
          "name": "stdout",
          "text": [
            "['Anakin']\n"
          ]
        }
      ]
    },
    {
      "cell_type": "markdown",
      "metadata": {
        "id": "7zlqpX4gKE6Q"
      },
      "source": [
        "**Problem:** Write dictionary comprehension code to make all kids in d1 one year older. "
      ]
    },
    {
      "cell_type": "code",
      "execution_count": null,
      "metadata": {
        "id": "jISvlDVYfraF"
      },
      "outputs": [],
      "source": [
        ""
      ]
    },
    {
      "cell_type": "markdown",
      "metadata": {
        "id": "4dseLev2KE6S"
      },
      "source": [
        "**Hint:** In Python, there is dictionary comprehension, which is very similar to list comprehension. There are three different variants of dictionary comprehension. You can work with just keys, just values or with key-value pairs (i.e., items). Basic syntac can look like this: \n",
        "\n",
        "```{(expression in key and or value) for (key,value) in dictonary.items() if Boolean}```\n",
        "\n",
        "```{(expression in key) for key in dictionary.keys() if Boolean}```\n",
        "\n",
        "```{(expression in values) for values in dictionary.values() if Boolean}```\n",
        "\n",
        "You can also work with the keys or values of a dictionary using list comprehension using very similar syntax to the one above but with ```[]``` instead of ```{}```."
      ]
    },
    {
      "cell_type": "markdown",
      "metadata": {
        "id": "wHrx0oa1F3UF"
      },
      "source": [
        "## In-Class Problem Set 2\n",
        "\n",
        "**Problem 1:** Write a function called `same()` that takes as its input a string of arbitrary length and returns a boolean that evaluates to `True` if the first and last character in the string are the same. \n",
        "\n",
        "**Example:** same(\"alpha\") = True, same(\"beta\") = False."
      ]
    },
    {
      "cell_type": "code",
      "execution_count": null,
      "metadata": {
        "id": "Ja8KoAAMF3UH"
      },
      "outputs": [],
      "source": [
        "def same():\n",
        "    \"\"\"Are the first and last character in the string the same?\"\"\"\n",
        "    \n",
        "    \n",
        "# Test your code by uncommenting the lines below\n",
        "# print(same(\"alpha\"))\n",
        "# print(same(\"beta\"))"
      ]
    },
    {
      "cell_type": "code",
      "source": [
        "#priya\n",
        "def same(x):\n",
        "  return(x[0]==x[-1])\n",
        "  \n",
        "print(same(\"alpha\"))\n",
        "print(same(\"beta\"))\n",
        "  "
      ],
      "metadata": {
        "colab": {
          "base_uri": "https://localhost:8080/"
        },
        "id": "hrlQM5t7YC2n",
        "outputId": "847076de-9332-42d2-b6b4-bb96518ee5e7"
      },
      "execution_count": null,
      "outputs": [
        {
          "output_type": "stream",
          "name": "stdout",
          "text": [
            "True\n",
            "False\n"
          ]
        }
      ]
    },
    {
      "cell_type": "markdown",
      "metadata": {
        "id": "xpNIyWRTF3UI"
      },
      "source": [
        "**Problem 2:** Write a function `remove_duplicates()` that removes duplicates from a list but keeps the items in the original order. \n",
        "\n",
        "**Example:** `remove_duplicates([4,23,5,6,13,23,5,7]) = [4,23,5,6,13,7]` and `remove_duplicates([4,4,4,2,7]) = [4,2,7]`"
      ]
    },
    {
      "cell_type": "code",
      "execution_count": null,
      "metadata": {
        "id": "EbL1RX2YF3UJ"
      },
      "outputs": [],
      "source": [
        "def remove_duplicates():\n",
        "    \"\"\" remove duplicates from list while keeping entries in original order\"\"\"\n",
        "    \n",
        "# Test your code by uncommenting the lines below - both should evaluate to \"True\"\n",
        "# print(remove_duplicates([4,23,5,6,13,23,5,7]) == [4,23,5,6,13,7])\n",
        "# print(remove_duplicates([4,4,4,2,7]) == [4,2,7])"
      ]
    },
    {
      "cell_type": "code",
      "source": [
        "#priya\n",
        "def remove_duplicates(x):\n",
        "  new=[]\n",
        "  [new.append(c) for c in x if c not in new]\n",
        "  return(new)\n",
        "remove_duplicates([4,23,5,6,13,23,5,7])\n",
        "remove_duplicates([4,4,4,2,7])"
      ],
      "metadata": {
        "id": "qTcnfEMNZGSy",
        "colab": {
          "base_uri": "https://localhost:8080/"
        },
        "outputId": "682296d7-a8e1-4450-ad70-25453adce135"
      },
      "execution_count": null,
      "outputs": [
        {
          "output_type": "execute_result",
          "data": {
            "text/plain": [
              "[4, 2, 7]"
            ]
          },
          "metadata": {},
          "execution_count": 14
        }
      ]
    },
    {
      "cell_type": "markdown",
      "metadata": {
        "id": "D4M9fRhtTOoO"
      },
      "source": [
        "## In-Class Problem Set 1 (02/07/2022)\n",
        "\n",
        "For one of the problems below, you might want to use an if/else statement. Please note that the basic syntax \n",
        "of an if-else statement in Python is:\n",
        "\n",
        "```\n",
        "if (Boolean statement):\n",
        "    code 1\n",
        "else:\n",
        "    code 2\n",
        "```"
      ]
    },
    {
      "cell_type": "markdown",
      "metadata": {
        "id": "6nxPxbDITOoR"
      },
      "source": [
        "**Problem:** December 2nd, 2021 was a palindromic date day. Consider 12/02/2021. If you remove the slashes, then the date reads the same forward as backward. Suppose you ask a user to enter a date (in the form xx/xx/xxxx). Write code to check whether it's a palindromic date and return an appropriate statement (such as \"your date is a palindrome!\")\n",
        "\n",
        "**Note:** Your code does not need to check, whether the entered string is a legitimate date. 13/45/5431, for instance, is not a legitimate date, but it is a palindrome. "
      ]
    },
    {
      "cell_type": "code",
      "execution_count": null,
      "metadata": {
        "id": "hsbSkalnTOoS",
        "colab": {
          "base_uri": "https://localhost:8080/"
        },
        "outputId": "de2a6722-0f7a-40f5-b783-7cc580fba491"
      },
      "outputs": [
        {
          "output_type": "stream",
          "name": "stdout",
          "text": [
            "Enter a date in the form xx/xx/xxxx12/02/2021\n",
            "your date is a palindrome!\n"
          ]
        }
      ],
      "source": [
        "x=input(\"Enter a date in the form xx/xx/xxxx\")\n",
        "palindrome=x.replace(\"/\",\"\")[::1]\n",
        "#print(palindrome)\n",
        "reverse=palindrome[::-1]\n",
        "#print(reverse)\n",
        "if (palindrome==reverse):\n",
        "  print(\"your date is a palindrome!\")\n",
        "else:\n",
        "  print(\"your date is not a palindrome!\")\n",
        "\n",
        "  # Bremer comment: Looking good!"
      ]
    },
    {
      "cell_type": "code",
      "source": [
        "#priya: \n",
        "date=input(\"Enter a date in the form xx/xx/xxxx:\")\n",
        "x=date.replace(\"/\",\"\")\n",
        "y=x[::-1]\n",
        "if(x==y):\n",
        "  print(\"your date is a palindrome\")\n",
        "else:\n",
        "  print(\"Your date is not a palindrome!\")\n",
        "\n"
      ],
      "metadata": {
        "id": "-G1yafCgU3Vh",
        "colab": {
          "base_uri": "https://localhost:8080/"
        },
        "outputId": "f4d3a868-c21e-4f3e-b03e-b53982cb1f97"
      },
      "execution_count": null,
      "outputs": [
        {
          "output_type": "stream",
          "name": "stdout",
          "text": [
            "Enter a date in the form xx/xx/xxxx:12/21/2021\n",
            "Your date is not a palindrome!\n"
          ]
        }
      ]
    },
    {
      "cell_type": "code",
      "source": [
        "date=input(\"Enter a date in the form xx/xx/xxxx : \")\n",
        "x=date.replace(\"/\",\"\")\n",
        "y=str(x)\n",
        "if y[::-1] == y:\n",
        "  print(\"Your date is a palindrome\")\n",
        "else:\n",
        "  print(\"Your date is not a palindrome\")\n",
        "\n"
      ],
      "metadata": {
        "id": "uSQEPRihU4IJ",
        "colab": {
          "base_uri": "https://localhost:8080/"
        },
        "outputId": "a068fc04-a9b0-4d40-a5c3-c6d4bf8df490"
      },
      "execution_count": null,
      "outputs": [
        {
          "output_type": "stream",
          "name": "stdout",
          "text": [
            "Enter a date in the form xx/xx/xxxx : 12/34/5678\n",
            "Your date is not a palindrome\n"
          ]
        }
      ]
    },
    {
      "cell_type": "markdown",
      "metadata": {
        "id": "ZXg9zsdeTOoT"
      },
      "source": [
        "**Problem:**  Recall, that python can be used to find the symmetric difference of two sets A and B as `A^B`. \n",
        "\n",
        "Define in words (or using a sketch) what you understand the symmetric difference of three sets A,B,C to be. Then, write Python code to find the symmetric difference between three given sets. Make up some sets and test out your code. Do you get the answer you think you should get?"
      ]
    },
    {
      "cell_type": "code",
      "execution_count": null,
      "metadata": {
        "id": "cTyCYOEyTOoV"
      },
      "outputs": [],
      "source": [
        ""
      ]
    },
    {
      "cell_type": "code",
      "source": [
        ""
      ],
      "metadata": {
        "id": "k1_7TwJnU4x3"
      },
      "execution_count": null,
      "outputs": []
    },
    {
      "cell_type": "code",
      "source": [
        ""
      ],
      "metadata": {
        "id": "ZKEZ2XSYU5FU"
      },
      "execution_count": null,
      "outputs": []
    },
    {
      "cell_type": "markdown",
      "metadata": {
        "id": "D-4XIRMATOoW"
      },
      "source": [
        "As you saw in class, there is Python syntax to find the union and intersection of two sets as well as code for finding the symmetric difference. Why is there no direct syntax to find the complement $(A^{\\prime}$) of a set? Explain."
      ]
    },
    {
      "cell_type": "markdown",
      "metadata": {
        "id": "zhOI61gQTOoW"
      },
      "source": [
        "**Problem:** What's the most efficient way you can think of to create a list in which each of r elements is repeated r times in a row (in Python base - without using any packages). \n",
        "\n",
        "Example: r=3 [1,1,1,2,2,2,3,3,3] "
      ]
    },
    {
      "cell_type": "code",
      "execution_count": null,
      "metadata": {
        "id": "BP7601-eTOoW"
      },
      "outputs": [],
      "source": [
        ""
      ]
    },
    {
      "cell_type": "code",
      "source": [
        ""
      ],
      "metadata": {
        "id": "HlIcrzslU5tJ"
      },
      "execution_count": null,
      "outputs": []
    },
    {
      "cell_type": "code",
      "source": [
        ""
      ],
      "metadata": {
        "id": "94hC-xB0U57-"
      },
      "execution_count": null,
      "outputs": []
    }
  ]
}